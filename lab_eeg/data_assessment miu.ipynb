{
  "cells": [
    {
      "cell_type": "code",
      "execution_count": 1,
      "id": "initial_id",
      "metadata": {
        "ExecuteTime": {
          "end_time": "2025-03-19T10:09:07.910795Z",
          "start_time": "2025-03-19T10:09:07.908033Z"
        },
        "colab": {
          "base_uri": "https://localhost:8080/",
          "height": 378
        },
        "id": "initial_id",
        "outputId": "58c69ea2-c740-4e53-e068-21d60445a2c8"
      },
      "outputs": [],
      "source": [
        "from obci_readmanager.signal_processing.read_manager import ReadManager\n",
        "import numpy as np\n",
        "import matplotlib.pyplot as plt\n",
        "import pandas as pd\n",
        "from scipy import signal as ss\n",
        "import pickle"
      ]
    },
    {
      "cell_type": "markdown",
      "id": "08878696",
      "metadata": {},
      "source": [
        "Action points realized by this notebook:\n",
        "- eeg signal upload from raw (bin), xlm, csv and tag files -> eeg dictionary with the option to call Fs, channel_names, rescaled values, tags\n",
        "- filtering [lowpass - 13Hz, highpass - 8Hz, notch - 50Hz] -- filtering to leave only the miu band\n",
        "- applying chosen montage; options: common_average, linked ears, chosen reference channel\n",
        "- signal cutting for particular task describtion -> dictionary and signal save to local files"
      ]
    },
    {
      "cell_type": "code",
      "execution_count": 2,
      "id": "d2bb0ac1f47221e4",
      "metadata": {
        "ExecuteTime": {
          "end_time": "2025-03-19T10:06:58.561889Z",
          "start_time": "2025-03-19T10:03:35.488849Z"
        },
        "id": "d2bb0ac1f47221e4"
      },
      "outputs": [],
      "source": [
        "def download_signal(bin_file_path=None, xml_file_path=None, tag_file_path=None, csv_file_path=None):\n",
        "    if bin_file_path is None:\n",
        "        raise ValueError(\"'bin_file_path' is required.\")\n",
        "\n",
        "    if xml_file_path is None:\n",
        "        raise ValueError(\"'xml_file_path' is required.\")\n",
        "\n",
        "    eeg = dict()\n",
        "\n",
        "    mgr = ReadManager(xml_file_path, bin_file_path, tag_file_path if tag_file_path else None)\n",
        "\n",
        "    # Retrieve the sampling frequency\n",
        "    eeg['sampling'] = float(mgr.get_param(\"sampling_frequency\"))\n",
        "\n",
        "    # Retrieve the names of the channels\n",
        "    eeg['channels_names'] = mgr.get_param(\"channels_names\")\n",
        "\n",
        "    # Retrieve EEG data and process it\n",
        "    eeg['data'] = mgr.get_samples()\n",
        "    eeg['data'] = eeg['data'] * 0.0715\n",
        "\n",
        "    # Retrieve tags if the tag file is provided\n",
        "    if tag_file_path:\n",
        "        eeg['tags'] = mgr.get_tags()\n",
        "\n",
        "    # Handle CSV file if provided\n",
        "    if csv_file_path:\n",
        "        try:\n",
        "            eeg['data_csv'] = pd.read_csv(csv_file_path)\n",
        "        except FileNotFoundError:\n",
        "            print(f\"Warning: CSV file not found at {csv_file_path}.\")\n",
        "            eeg['data_csv'] = None\n",
        "    else:\n",
        "        eeg['data_csv'] = None\n",
        "\n",
        "    return eeg"
      ]
    },
    {
      "cell_type": "code",
      "execution_count": 3,
      "id": "e7ca8a47cc9ac4c6",
      "metadata": {
        "ExecuteTime": {
          "end_time": "2025-03-19T10:06:58.703252Z",
          "start_time": "2025-03-19T10:05:11.650548Z"
        },
        "id": "e7ca8a47cc9ac4c6"
      },
      "outputs": [],
      "source": [
        "def filter_signal(syg, sampling, lowpass_params=None, highpass_params=None, notch_params=None):\n",
        "    # Default filter parameters\n",
        "    default_lowpass = {'N': 2, 'Wn': 13, 'btype': 'lowpass', 'ftype': 'butter'}\n",
        "    default_highpass = {'N': 2, 'Wn': 8, 'btype': 'highpass', 'ftype': 'butter'}\n",
        "    default_notch = {'w0': 50, 'Q': 30}\n",
        "\n",
        "    # Merge user-provided parameters with defaults\n",
        "    lowpass_params = {**default_lowpass, **(lowpass_params or {})}\n",
        "    highpass_params = {**default_highpass, **(highpass_params or {})}\n",
        "    notch_params = {**default_notch, **(notch_params or {})}\n",
        "\n",
        "    # Design lowpass filter\n",
        "    sos_low = ss.iirfilter(\n",
        "        N=lowpass_params['N'],\n",
        "        Wn=lowpass_params['Wn'],\n",
        "        btype=lowpass_params['btype'],\n",
        "        ftype=lowpass_params['ftype'],\n",
        "        fs=sampling,\n",
        "        output='sos'\n",
        "    )\n",
        "\n",
        "    # Design highpass filter\n",
        "    sos_high = ss.iirfilter(\n",
        "        N=highpass_params['N'],\n",
        "        Wn=highpass_params['Wn'],\n",
        "        btype=highpass_params['btype'],\n",
        "        ftype=highpass_params['ftype'],\n",
        "        fs=sampling,\n",
        "        output='sos'\n",
        "    )\n",
        "\n",
        "    # Design notch filter\n",
        "    b_notch, a_notch = ss.iirnotch(\n",
        "        w0=notch_params['w0'],\n",
        "        Q=notch_params['Q'],\n",
        "        fs=sampling\n",
        "    )\n",
        "\n",
        "    # Apply the filters sequentially\n",
        "    syg = ss.sosfiltfilt(sos_low, syg, axis=-1)   # Lowpass filter\n",
        "    syg = ss.sosfiltfilt(sos_high, syg, axis=-1)  # Highpass filter\n",
        "    syg = ss.filtfilt(b_notch, a_notch, syg, axis=-1)  # Notch filter\n",
        "\n",
        "    return syg"
      ]
    },
    {
      "cell_type": "code",
      "execution_count": 4,
      "id": "df70dba3892e4b52",
      "metadata": {
        "ExecuteTime": {
          "end_time": "2025-03-19T10:06:58.707717Z",
          "start_time": "2025-03-19T10:05:50.428941Z"
        },
        "id": "df70dba3892e4b52"
      },
      "outputs": [],
      "source": [
        "def apply_montage(syg, channels_names, montage_type='average', reference_channel=None):\n",
        "    # Identify 'M1' and 'M2'\n",
        "    unwanted_labels = {'M1', 'M2'}\n",
        "    m1_m2_indices = [i for i, label in enumerate(channels_names) if label in unwanted_labels]\n",
        "\n",
        "    # Remove 'M1' and 'M2' from channels\n",
        "    indices_to_keep = [i for i, label in enumerate(channels_names) if label not in unwanted_labels]\n",
        "    channels_names = [channels_names[i] for i in indices_to_keep]\n",
        "    syg = syg[indices_to_keep]\n",
        "\n",
        "    if len(m1_m2_indices) != 2:\n",
        "        raise ValueError(\"Both 'M1' and 'M2' must be present in channels_names for average montage.\")\n",
        "    if montage_type == 'common_average':\n",
        "        # Compute the mean\n",
        "        average_reference = syg.mean(axis=0)\n",
        "\n",
        "        # Apply montage\n",
        "        syg = syg - average_reference\n",
        "\n",
        "    elif montage_type == 'linked_ears':\n",
        "        # Extract signals for 'M1' and 'M2'\n",
        "        m1_signal = syg[m1_m2_indices[0], :]\n",
        "        m2_signal = syg[m1_m2_indices[1], :]\n",
        "\n",
        "        # Compute the mean of M1 and M2\n",
        "        average_reference = (m1_signal + m2_signal) / 2\n",
        "\n",
        "        # Apply montage\n",
        "        syg = syg - average_reference\n",
        "\n",
        "    elif montage_type == 'channel':\n",
        "        if reference_channel is None:\n",
        "            raise ValueError(\"`reference_channel` must be specified for montage_type='channel'.\")\n",
        "\n",
        "        # Find the reference channel index\n",
        "        if reference_channel not in channels_names:\n",
        "            raise ValueError(f\"Reference channel '{reference_channel}' not found in channels_names.\")\n",
        "\n",
        "        ref_index = channels_names.index(reference_channel)\n",
        "        ref_signal = syg[ref_index, :]\n",
        "\n",
        "        # Apply montage\n",
        "        syg = syg - ref_signal\n",
        "\n",
        "    else:\n",
        "        raise ValueError(\"Invalid montage_type. Choose 'average' or 'channel'.\")\n",
        "\n",
        "    return syg, channels_names"
      ]
    },
    {
      "cell_type": "code",
      "execution_count": 5,
      "id": "233fc198c5708f89",
      "metadata": {
        "id": "233fc198c5708f89"
      },
      "outputs": [],
      "source": [
        "def cut_signal(syg, tags, sampling, amplitude_limit=500):\n",
        "  # Initialize parameters\n",
        "  dlugosc = int((2 + 6) * sampling)\n",
        "  lewa_list = []\n",
        "  prawa_list = []\n",
        "  lewa, prawa = ('lewa', 'prawa')\n",
        "\n",
        "  for tag in tags:\n",
        "      # Determine if the tag is frequent or rare based on the timestamp\n",
        "      t0 = int(sampling * (tag['start_timestamp'] - 2))\n",
        "\n",
        "      # Slice the signal segment\n",
        "      segment = syg[:, t0:t0 + dlugosc]\n",
        "\n",
        "      if tag['desc']['strona'] == lewa:\n",
        "          lewa_list.append(segment)\n",
        "      elif tag['desc']['strona'] == prawa:\n",
        "          prawa_list.append(segment)\n",
        "\n",
        "  lewa_array = np.array(lewa_list)\n",
        "\n",
        "  prawa_array = np.array(prawa_list)\n",
        "\n",
        "  return lewa_array, prawa_array"
      ]
    },
    {
      "cell_type": "code",
      "execution_count": 6,
      "id": "c3dee0525e8f540d",
      "metadata": {
        "id": "c3dee0525e8f540d"
      },
      "outputs": [
        {
          "name": "stderr",
          "output_type": "stream",
          "text": [
            "2025-04-08 22:37:08,648 - data_source - INFO - All data set requested for the first time. Start reading all data from the file...\n",
            "2025-04-08 22:37:11,105 - data_source - INFO - All data set requested for the first time. Start reading all data from the file...\n"
          ]
        }
      ],
      "source": [
        "for signal_type in [\"ruch\", \"wyobrazenie\"]:\n",
        "\n",
        "    name = \"mati\"\n",
        "    xml_file = f\"{name}/{name}_{signal_type}.obci.xml\"\n",
        "    bin_file = f\"{name}/{name}_{signal_type}.obci.raw\"\n",
        "    csv_file_path = f\"{name}/{name}_{signal_type}.csv\"\n",
        "    tag_file_path = f\"{name}/{name}_{signal_type}.obci.tag\"\n",
        "\n",
        "    EEG_mati = download_signal(bin_file, xml_file, tag_file_path, csv_file_path)\n",
        "    EEG_mati['data'], EEG_mati['channels_names'] = apply_montage(EEG_mati['data'], EEG_mati['channels_names'], 'common_average')\n",
        "    EEG_mati['data'] = filter_signal(EEG_mati['data'], EEG_mati['sampling'])\n",
        "\n",
        "    EEG_mati['lewa'], EEG_mati['prawa'] = cut_signal(EEG_mati['data'], EEG_mati['tags'], EEG_mati['sampling'])\n",
        "    merged = np.stack((EEG_mati['lewa'], EEG_mati['prawa']), axis=0)\n",
        "\n",
        "    saved = 0\n",
        "    if not saved:\n",
        "        np.save(f\"{name}_{signal_type}_dane_miu.npy\", merged)\n",
        "        with open(f\"{name}_{signal_type}_EEG_miu.pkl\", \"wb\") as f:\n",
        "            pickle.dump(EEG_mati, f)"
      ]
    }
  ],
  "metadata": {
    "colab": {
      "provenance": []
    },
    "kernelspec": {
      "display_name": "Python 3.9.13 ('base')",
      "language": "python",
      "name": "python3"
    },
    "language_info": {
      "codemirror_mode": {
        "name": "ipython",
        "version": 3
      },
      "file_extension": ".py",
      "mimetype": "text/x-python",
      "name": "python",
      "nbconvert_exporter": "python",
      "pygments_lexer": "ipython3",
      "version": "3.9.13"
    },
    "vscode": {
      "interpreter": {
        "hash": "f0c0a373561c542723eb2afd17c7b91d629aad1468c2eab1f8c9e13f5e613b4a"
      }
    }
  },
  "nbformat": 4,
  "nbformat_minor": 5
}
